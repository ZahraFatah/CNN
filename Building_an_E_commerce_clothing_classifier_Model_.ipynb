{
  "nbformat": 4,
  "nbformat_minor": 0,
  "metadata": {
    "colab": {
      "provenance": [],
      "authorship_tag": "ABX9TyPC6GU881CoQjd4NAQPccQp",
      "include_colab_link": true
    },
    "kernelspec": {
      "name": "python3",
      "display_name": "Python 3"
    },
    "language_info": {
      "name": "python"
    }
  },
  "cells": [
    {
      "cell_type": "markdown",
      "metadata": {
        "id": "view-in-github",
        "colab_type": "text"
      },
      "source": [
        "<a href=\"https://colab.research.google.com/github/ZahraFatah/CNN/blob/main/Building_an_E_commerce_clothing_classifier_Model_.ipynb\" target=\"_parent\"><img src=\"https://colab.research.google.com/assets/colab-badge.svg\" alt=\"Open In Colab\"/></a>"
      ]
    },
    {
      "cell_type": "markdown",
      "source": [
        "Fashion Forward is a new AI-based e-commerce clothing retailer. They want to use image classification to automatically categorize new product listings, making it easier for customers to find what they're looking for. It will also assist in inventory management by quickly sorting items.\n",
        "\n",
        "As a data scientist tasked with implementing a garment classifier, your primary objective is to develop a machine learning model capable of accurately categorizing images of clothing items into distinct garment types such as shirts, trousers, shoes, etc."
      ],
      "metadata": {
        "id": "uO3Ss0cIv4n5"
      }
    },
    {
      "cell_type": "code",
      "execution_count": null,
      "metadata": {
        "id": "PFq6Doo-v3sU"
      },
      "outputs": [],
      "source": [
        "!pip install torchmetrics\n",
        "!pip install torchvision"
      ]
    },
    {
      "cell_type": "code",
      "source": [
        "import numpy as np\n",
        "import torch\n",
        "import torch.nn as nn\n",
        "import torch.optim as optim\n",
        "from torch.utils.data import Dataset, DataLoader\n",
        "from torchmetrics import Accuracy, Precision, Recall"
      ],
      "metadata": {
        "id": "dX4mOPEhwDgh"
      },
      "execution_count": null,
      "outputs": []
    },
    {
      "cell_type": "code",
      "source": [
        "# Load datasets\n",
        "from torchvision import datasets\n",
        "import torchvision.transforms as transforms\n",
        "\n",
        "train_data = datasets.FashionMNIST(root='./data', train=True, download=True, transform=transforms.ToTensor())\n",
        "test_data = datasets.FashionMNIST(root='./data', train=False, download=True, transform=transforms.ToTensor())"
      ],
      "metadata": {
        "id": "TkvnV4qVwJnJ"
      },
      "execution_count": null,
      "outputs": []
    },
    {
      "cell_type": "code",
      "source": [
        "# Get the number of classes\n",
        "classes = train_data.classes\n",
        "num_classes = len(train_data.classes)\n",
        "\n",
        "# Define some relevant variables\n",
        "num_input_channels = 1\n",
        "num_output_channels = 16\n",
        "image_size = train_data[0][0].shape[1]"
      ],
      "metadata": {
        "id": "bqJMm1f3wPo4"
      },
      "execution_count": null,
      "outputs": []
    },
    {
      "cell_type": "code",
      "source": [
        "# Define the training set DataLoader\n",
        "dataloader_train = DataLoader(train_data, batch_size=10, shuffle=True)\n",
        "\n",
        "class MultiClassImageClassifier(nn.Module):\n",
        "    def __init__(self, num_classes):\n",
        "        super(MultiClassImageClassifier, self).__init__()\n",
        "        self.conv1 = nn.Conv2d(num_input_channels, num_output_channels, kernel_size=3, stride=1, padding=1)\n",
        "        self.relu = nn.ReLU()\n",
        "        self.maxpool = nn.MaxPool2d(kernel_size=2, stride=2)\n",
        "        self.flatten = nn.Flatten()\n",
        "\n",
        "        # Create a fully connected layer\n",
        "        self.fc = nn.Linear(num_output_channels * (image_size//2)**2, num_classes)\n",
        "\n",
        "    def forward(self, x):\n",
        "        # Pass inputs through each layer\n",
        "        x = self.conv1(x)\n",
        "        x = self.relu(x)\n",
        "        x = self.maxpool(x)\n",
        "        x = self.flatten(x)\n",
        "        x = self.fc(x)\n",
        "        return x"
      ],
      "metadata": {
        "id": "NqJA86nGwZ4k"
      },
      "execution_count": null,
      "outputs": []
    },
    {
      "cell_type": "code",
      "source": [
        "# Define training function\n",
        "def train_model(optimizer, net, num_epochs):\n",
        "    num_processed = 0\n",
        "    criterion = nn.CrossEntropyLoss()\n",
        "    for epoch in range(num_epochs):\n",
        "        running_loss = 0\n",
        "        num_processed = 0\n",
        "        for features, labels in dataloader_train:\n",
        "            optimizer.zero_grad()\n",
        "            outputs = net(features)\n",
        "            loss = criterion(outputs, labels)\n",
        "            loss.backward()\n",
        "            optimizer.step()\n",
        "            running_loss += loss.item()\n",
        "            num_processed += len(labels)\n",
        "        print(f'epoch {epoch}, loss: {running_loss / num_processed}')\n",
        "\n",
        "    train_loss = running_loss / len(dataloader_train)\n",
        "\n",
        "# Train for 1 epoch\n",
        "net = MultiClassImageClassifier(num_classes)\n",
        "optimizer = optim.Adam(net.parameters(), lr=0.001)\n",
        "\n",
        "train_model(\n",
        "    optimizer=optimizer,\n",
        "    net=net,\n",
        "    num_epochs=1,\n",
        ")\n",
        "\n"
      ],
      "metadata": {
        "id": "BCrGGIQ-wgRU"
      },
      "execution_count": null,
      "outputs": []
    },
    {
      "cell_type": "code",
      "source": [
        "# Test the model on the test set\n",
        "\n",
        "# Define the test set DataLoader\n",
        "dataloader_test = DataLoader(\n",
        "    test_data,\n",
        "    batch_size=10,\n",
        "    shuffle=False,\n",
        ")\n",
        "# Define the metrics\n",
        "accuracy_metric = Accuracy(task='multiclass', num_classes=num_classes)\n",
        "precision_metric = Precision(task='multiclass', num_classes=num_classes, average=None)\n",
        "recall_metric = Recall(task='multiclass', num_classes=num_classes, average=None)\n",
        "\n",
        "# Run model on test set\n",
        "net.eval()\n",
        "predictions = []\n",
        "for i, (features, labels) in enumerate(dataloader_test):\n",
        "    output = net.forward(features.reshape(-1, 1, image_size, image_size))\n",
        "    cat = torch.argmax(output, dim=-1)\n",
        "    predictions.extend(cat.tolist())\n",
        "    accuracy_metric(cat, labels)\n",
        "    precision_metric(cat, labels)\n",
        "    recall_metric(cat, labels)\n",
        "\n",
        "# Compute the metrics\n",
        "accuracy = accuracy_metric.compute().item()\n",
        "precision = precision_metric.compute().tolist()\n",
        "recall = recall_metric.compute().tolist()\n",
        "print('Accuracy:', accuracy)\n",
        "print('Precision (per class):', precision)\n",
        "print('Recall (per class):', recall)"
      ],
      "metadata": {
        "id": "bFJj2brTwm42"
      },
      "execution_count": null,
      "outputs": []
    }
  ]
}